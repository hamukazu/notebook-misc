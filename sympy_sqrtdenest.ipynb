{
 "cells": [
  {
   "cell_type": "markdown",
   "metadata": {},
   "source": [
    "$$ \n",
    "\\sqrt{2}+\\sqrt{3}=\\sqrt{\\left(\\sqrt{2}+\\sqrt{3}\\right)^2}=\\sqrt{2\\sqrt{6}+5}\n",
    "=\\sqrt{\\sqrt{\\left(2\\sqrt{6}+5\\right)^2}} = \\sqrt{\\sqrt{20\\sqrt{6}+49}}\n",
    "$$"
   ]
  },
  {
   "cell_type": "code",
   "execution_count": 1,
   "metadata": {},
   "outputs": [
    {
     "data": {
      "image/png": "[encoded data removed]",
      "text/latex": [
       "$$\\sqrt[4]{20 \\sqrt{6} + 49}$$"
      ],
      "text/plain": [
       "4 ____________\n",
       "╲╱ 20⋅√6 + 49 "
      ]
     },
     "execution_count": 1,
     "metadata": {},
     "output_type": "execute_result"
    }
   ],
   "source": [
    "import sympy as S\n",
    "S.init_printing()\n",
    "a = S.sqrt( S.sqrt(49+20*S.sqrt(6)))\n",
    "\n",
    "a"
   ]
  },
  {
   "cell_type": "code",
   "execution_count": 2,
   "metadata": {},
   "outputs": [
    {
     "data": {
      "image/png": "[encoded data removed]",
      "text/latex": [
       "$$\\sqrt[4]{20 \\sqrt{6} + 49}$$"
      ],
      "text/plain": [
       "4 ____________\n",
       "╲╱ 20⋅√6 + 49 "
      ]
     },
     "execution_count": 2,
     "metadata": {},
     "output_type": "execute_result"
    }
   ],
   "source": [
    "S.sqrtdenest(a)"
   ]
  },
  {
   "cell_type": "markdown",
   "metadata": {},
   "source": [
    "$$ \n",
    "\\sqrt{2}+\\sqrt{3}=\\sqrt{2\\sqrt{6}+5}=\\sqrt{1+(2\\sqrt{6}+4)}\n",
    "=\\sqrt{1+\\sqrt{\\left(2\\sqrt{6}+4\\right)^2}} = \\sqrt{1+\\sqrt{16\\sqrt{6}+40}}\n",
    "$$"
   ]
  },
  {
   "cell_type": "code",
   "execution_count": 3,
   "metadata": {},
   "outputs": [
    {
     "data": {
      "image/png": "[encoded data removed]",
      "text/latex": [
       "$$\\sqrt{1 + \\sqrt{16 \\sqrt{6} + 40}}$$"
      ],
      "text/plain": [
       "   ____________________\n",
       "  ╱       ____________ \n",
       "╲╱  1 + ╲╱ 16⋅√6 + 40  "
      ]
     },
     "execution_count": 3,
     "metadata": {},
     "output_type": "execute_result"
    }
   ],
   "source": [
    "b = S.sqrt(1+S.sqrt(40+16*S.sqrt(6)))\n",
    "\n",
    "b"
   ]
  },
  {
   "cell_type": "code",
   "execution_count": 4,
   "metadata": {},
   "outputs": [
    {
     "data": {
      "image/png": "[encoded data removed]",
      "text/latex": [
       "$$\\sqrt{2} + \\sqrt{3}$$"
      ],
      "text/plain": [
       "√2 + √3"
      ]
     },
     "execution_count": 4,
     "metadata": {},
     "output_type": "execute_result"
    }
   ],
   "source": [
    "S.sqrtdenest(b)"
   ]
  }
 ],
 "metadata": {
  "kernelspec": {
   "display_name": "Python 3",
   "language": "python",
   "name": "python3"
  },
  "language_info": {
   "codemirror_mode": {
    "name": "ipython",
    "version": 3
   },
   "file_extension": ".py",
   "mimetype": "text/x-python",
   "name": "python",
   "nbconvert_exporter": "python",
   "pygments_lexer": "ipython3",
   "version": "3.6.1"
  }
 },
 "nbformat": 4,
 "nbformat_minor": 2
}
